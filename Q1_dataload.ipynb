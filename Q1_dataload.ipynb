{
  "nbformat": 4,
  "nbformat_minor": 0,
  "metadata": {
    "colab": {
      "name": "Q1_dataload.ipynb",
      "provenance": [],
      "mount_file_id": "1m6lLwm-ONkowc23xF11-eHnbze6kvu-p",
      "authorship_tag": "ABX9TyPOB/LRFDflad2tBFLzGVps",
      "include_colab_link": true
    },
    "kernelspec": {
      "name": "python3",
      "display_name": "Python 3"
    },
    "language_info": {
      "name": "python"
    }
  },
  "cells": [
    {
      "cell_type": "markdown",
      "metadata": {
        "id": "view-in-github",
        "colab_type": "text"
      },
      "source": [
        "<a href=\"https://colab.research.google.com/github/hyz218/baekjoonoj/blob/main/Q1_dataload.ipynb\" target=\"_parent\"><img src=\"https://colab.research.google.com/assets/colab-badge.svg\" alt=\"Open In Colab\"/></a>"
      ]
    },
    {
      "cell_type": "code",
      "metadata": {
        "colab": {
          "base_uri": "https://localhost:8080/"
        },
        "id": "TwQr7mHtCNgJ",
        "outputId": "96a6f519-8c83-4d33-bc6e-51a718d61e36"
      },
      "source": [
        "cd /content/drive/MyDrive/Colab Notebooks/소상공인시장진흥공단_상가(상권)정보_20201231\n"
      ],
      "execution_count": 2,
      "outputs": [
        {
          "output_type": "stream",
          "text": [
            "/content/drive/MyDrive/Colab Notebooks/소상공인시장진흥공단_상가(상권)정보_20201231\n"
          ],
          "name": "stdout"
        }
      ]
    },
    {
      "cell_type": "code",
      "metadata": {
        "id": "A3ZkEdfACi-J"
      },
      "source": [
        "import os\n",
        "import pandas as pd\n",
        "import numpy as np"
      ],
      "execution_count": 8,
      "outputs": []
    },
    {
      "cell_type": "code",
      "metadata": {
        "colab": {
          "base_uri": "https://localhost:8080/"
        },
        "id": "5DT6ga_kCZma",
        "outputId": "d2b03ad5-0003-45c2-e6b8-0d8641d188e5"
      },
      "source": [
        "os.listdir()"
      ],
      "execution_count": 5,
      "outputs": [
        {
          "output_type": "execute_result",
          "data": {
            "text/plain": [
              "['소상공인시장진흥공단_상가(상권)정보_부산_202012.csv',\n",
              " '소상공인시장진흥공단_상가(상권)정보_강원_202012.csv',\n",
              " '소상공인시장진흥공단_상가(상권)정보_경기_202012.csv',\n",
              " '소상공인시장진흥공단_상가(상권)정보_경남_202012.csv',\n",
              " '소상공인시장진흥공단_상가(상권)정보_경북_202012.csv',\n",
              " '소상공인시장진흥공단_상가(상권)정보_광주_202012.csv',\n",
              " '소상공인시장진흥공단_상가(상권)정보_대구_202012.csv',\n",
              " '소상공인시장진흥공단_상가(상권)정보_대전_202012.csv',\n",
              " '(필독) 파일 열람 방법.hwp',\n",
              " 'Untitled0.ipynb',\n",
              " '소상공인시장진흥공단_상가(상권)정보_서울_202012.csv',\n",
              " '소상공인시장진흥공단_상가(상권)정보_울산_202012.csv',\n",
              " '소상공인시장진흥공단_상가(상권)정보_세종_202012.csv',\n",
              " '소상공인시장진흥공단_상가(상권)정보_전남_202012.csv',\n",
              " '소상공인시장진흥공단_상가(상권)정보_인천_202012.csv']"
            ]
          },
          "metadata": {
            "tags": []
          },
          "execution_count": 5
        }
      ]
    },
    {
      "cell_type": "code",
      "metadata": {
        "colab": {
          "base_uri": "https://localhost:8080/"
        },
        "id": "Em_J5uPcChkL",
        "outputId": "809ff82c-3be5-4beb-a1f6-002b3fa2d45c"
      },
      "source": [
        "df=pd.DataFrame()\n",
        "for region in os.listdir():\n",
        "  if 'csv' in region:\n",
        "    df_read=pd.read_csv(region,sep='|')\n",
        "    df=pd.concat([df,df_read])"
      ],
      "execution_count": 18,
      "outputs": [
        {
          "output_type": "stream",
          "text": [
            "/usr/local/lib/python3.7/dist-packages/IPython/core/interactiveshell.py:2718: DtypeWarning: Columns (35) have mixed types.Specify dtype option on import or set low_memory=False.\n",
            "  interactivity=interactivity, compiler=compiler, result=result)\n"
          ],
          "name": "stderr"
        }
      ]
    },
    {
      "cell_type": "code",
      "metadata": {
        "colab": {
          "base_uri": "https://localhost:8080/"
        },
        "id": "_M0vvyk3DC3b",
        "outputId": "7a13a42b-73d8-498f-b85f-bfc8928e348c"
      },
      "source": [
        "df.shape"
      ],
      "execution_count": 19,
      "outputs": [
        {
          "output_type": "execute_result",
          "data": {
            "text/plain": [
              "(2416252, 39)"
            ]
          },
          "metadata": {
            "tags": []
          },
          "execution_count": 19
        }
      ]
    },
    {
      "cell_type": "code",
      "metadata": {
        "id": "C11yr9ISFdOQ"
      },
      "source": [
        ""
      ],
      "execution_count": null,
      "outputs": []
    }
  ]
}